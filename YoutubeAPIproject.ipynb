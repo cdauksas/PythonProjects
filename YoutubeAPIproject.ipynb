{
 "cells": [
  {
   "cell_type": "code",
   "execution_count": 6,
   "metadata": {},
   "outputs": [],
   "source": [
    "# import libraries\n",
    "import pandas as pd\n",
    "import requests\n",
    "import time"
   ]
  },
  {
   "attachments": {},
   "cell_type": "markdown",
   "metadata": {},
   "source": [
    "### Working With Youtube API to get my channel statistics"
   ]
  },
  {
   "cell_type": "code",
   "execution_count": 16,
   "metadata": {},
   "outputs": [],
   "source": [
    "#filled in apikey and channel id with placeholder values\n",
    "API_KEY = 'zzzz'\n",
    "# Channel API key UCngE9vqqVRkY2NjbjiaG7dA\n",
    "CHANNEL_ID = 'aaa'"
   ]
  },
  {
   "cell_type": "code",
   "execution_count": 37,
   "metadata": {},
   "outputs": [],
   "source": [
    "#make API call \n",
    "pageToken = \"\"\n",
    "url = \"https://www.googleapis.com/youtube/v3/search?key=\"+API_KEY+\"&channelId=\"+CHANNEL_ID+\"&part=snippet,id&order=date&maxResults=10000\"+pageToken\n",
    "response = requests.get(url).json()\n"
   ]
  },
  {
   "cell_type": "code",
   "execution_count": 39,
   "metadata": {},
   "outputs": [
    {
     "data": {
      "text/html": [
       "<div>\n",
       "<style scoped>\n",
       "    .dataframe tbody tr th:only-of-type {\n",
       "        vertical-align: middle;\n",
       "    }\n",
       "\n",
       "    .dataframe tbody tr th {\n",
       "        vertical-align: top;\n",
       "    }\n",
       "\n",
       "    .dataframe thead th {\n",
       "        text-align: right;\n",
       "    }\n",
       "</style>\n",
       "<table border=\"1\" class=\"dataframe\">\n",
       "  <thead>\n",
       "    <tr style=\"text-align: right;\">\n",
       "      <th></th>\n",
       "      <th>video_id</th>\n",
       "      <th>video_title</th>\n",
       "      <th>upload_date</th>\n",
       "      <th>view_count</th>\n",
       "      <th>comment_count</th>\n",
       "    </tr>\n",
       "  </thead>\n",
       "  <tbody>\n",
       "  </tbody>\n",
       "</table>\n",
       "</div>"
      ],
      "text/plain": [
       "Empty DataFrame\n",
       "Columns: [video_id, video_title, upload_date, view_count, comment_count]\n",
       "Index: []"
      ]
     },
     "execution_count": 39,
     "metadata": {},
     "output_type": "execute_result"
    }
   ],
   "source": [
    "#build our dataframe\n",
    "df = pd.DataFrame(columns=[\"video_id\", \"video_title\",\"upload_date\",\"view_count\",\"comment_count\"])\n"
   ]
  },
  {
   "cell_type": "code",
   "execution_count": 40,
   "metadata": {},
   "outputs": [
    {
     "name": "stderr",
     "output_type": "stream",
     "text": [
      "C:\\Users\\daukca\\AppData\\Local\\Temp\\5\\ipykernel_7632\\1234217472.py:17: FutureWarning: The frame.append method is deprecated and will be removed from pandas in a future version. Use pandas.concat instead.\n",
      "  df = df.append({'video_id': video_id, 'video_title': video_title,\n",
      "C:\\Users\\daukca\\AppData\\Local\\Temp\\5\\ipykernel_7632\\1234217472.py:17: FutureWarning: The frame.append method is deprecated and will be removed from pandas in a future version. Use pandas.concat instead.\n",
      "  df = df.append({'video_id': video_id, 'video_title': video_title,\n",
      "C:\\Users\\daukca\\AppData\\Local\\Temp\\5\\ipykernel_7632\\1234217472.py:17: FutureWarning: The frame.append method is deprecated and will be removed from pandas in a future version. Use pandas.concat instead.\n",
      "  df = df.append({'video_id': video_id, 'video_title': video_title,\n",
      "C:\\Users\\daukca\\AppData\\Local\\Temp\\5\\ipykernel_7632\\1234217472.py:17: FutureWarning: The frame.append method is deprecated and will be removed from pandas in a future version. Use pandas.concat instead.\n",
      "  df = df.append({'video_id': video_id, 'video_title': video_title,\n",
      "C:\\Users\\daukca\\AppData\\Local\\Temp\\5\\ipykernel_7632\\1234217472.py:17: FutureWarning: The frame.append method is deprecated and will be removed from pandas in a future version. Use pandas.concat instead.\n",
      "  df = df.append({'video_id': video_id, 'video_title': video_title,\n",
      "C:\\Users\\daukca\\AppData\\Local\\Temp\\5\\ipykernel_7632\\1234217472.py:17: FutureWarning: The frame.append method is deprecated and will be removed from pandas in a future version. Use pandas.concat instead.\n",
      "  df = df.append({'video_id': video_id, 'video_title': video_title,\n"
     ]
    }
   ],
   "source": [
    "for video in response['items']:\n",
    "    if video['id']['kind'] == \"youtube#video\":\n",
    "        video_id = video['id']['videoId']\n",
    "        video_title = video['snippet']['title']\n",
    "        video_title = str(video_title).replace(\"&amp;\",\"\")\n",
    "        upload_date = video['snippet']['publishedAt']\n",
    "        upload_date = str(upload_date).split(\"T\")[0]\n",
    "        \n",
    "        #collecting view and comment counts\n",
    "        url_video_stats = \"https://www.googleapis.com/youtube/v3/videos?id=\"+video_id+\"&part=statistics&key=\"+API_KEY\n",
    "        response_video_stats = requests.get(url_video_stats).json()\n",
    "\n",
    "        view_count = response_video_stats['items'][0]['statistics']['viewCount']\n",
    "        comment_count = response_video_stats['items'][0]['statistics']['commentCount']\n",
    "       \n",
    "        #save data in padas df\n",
    "        df = df.append({'video_id': video_id, 'video_title': video_title,\n",
    "                        'upload_date':upload_date, 'view_count':view_count,\n",
    "                        'comment_count':comment_count}, ignore_index=True)\n",
    "\n",
    "\n",
    "        \n"
   ]
  },
  {
   "cell_type": "code",
   "execution_count": 41,
   "metadata": {},
   "outputs": [
    {
     "data": {
      "text/html": [
       "<div>\n",
       "<style scoped>\n",
       "    .dataframe tbody tr th:only-of-type {\n",
       "        vertical-align: middle;\n",
       "    }\n",
       "\n",
       "    .dataframe tbody tr th {\n",
       "        vertical-align: top;\n",
       "    }\n",
       "\n",
       "    .dataframe thead th {\n",
       "        text-align: right;\n",
       "    }\n",
       "</style>\n",
       "<table border=\"1\" class=\"dataframe\">\n",
       "  <thead>\n",
       "    <tr style=\"text-align: right;\">\n",
       "      <th></th>\n",
       "      <th>video_id</th>\n",
       "      <th>video_title</th>\n",
       "      <th>upload_date</th>\n",
       "      <th>view_count</th>\n",
       "      <th>comment_count</th>\n",
       "    </tr>\n",
       "  </thead>\n",
       "  <tbody>\n",
       "    <tr>\n",
       "      <th>0</th>\n",
       "      <td>fkoGtJt3x4M</td>\n",
       "      <td>Illenium - Story of my Life -  Denver 2023</td>\n",
       "      <td>2023-06-18</td>\n",
       "      <td>492</td>\n",
       "      <td>1</td>\n",
       "    </tr>\n",
       "    <tr>\n",
       "      <th>1</th>\n",
       "      <td>FtbYVfIdNUQ</td>\n",
       "      <td>Gorgon City - Red Rocks 2023 - Tell Me It’s True</td>\n",
       "      <td>2023-04-28</td>\n",
       "      <td>141</td>\n",
       "      <td>0</td>\n",
       "    </tr>\n",
       "    <tr>\n",
       "      <th>2</th>\n",
       "      <td>IbnsarVFR_w</td>\n",
       "      <td>Snowmass 2022</td>\n",
       "      <td>2022-02-20</td>\n",
       "      <td>71</td>\n",
       "      <td>0</td>\n",
       "    </tr>\n",
       "    <tr>\n",
       "      <th>3</th>\n",
       "      <td>d7IEgYqq6Lo</td>\n",
       "      <td>Berthoud Pass Snowboarding May 2020</td>\n",
       "      <td>2020-05-24</td>\n",
       "      <td>60</td>\n",
       "      <td>0</td>\n",
       "    </tr>\n",
       "    <tr>\n",
       "      <th>4</th>\n",
       "      <td>9ikLHpyNc9A</td>\n",
       "      <td>Keystone snowboarding 2020 casey dauksas</td>\n",
       "      <td>2020-03-19</td>\n",
       "      <td>193</td>\n",
       "      <td>1</td>\n",
       "    </tr>\n",
       "    <tr>\n",
       "      <th>5</th>\n",
       "      <td>0kB7FyJityQ</td>\n",
       "      <td>random clips test</td>\n",
       "      <td>2014-06-08</td>\n",
       "      <td>92</td>\n",
       "      <td>0</td>\n",
       "    </tr>\n",
       "  </tbody>\n",
       "</table>\n",
       "</div>"
      ],
      "text/plain": [
       "      video_id                                       video_title upload_date  \\\n",
       "0  fkoGtJt3x4M        Illenium - Story of my Life -  Denver 2023  2023-06-18   \n",
       "1  FtbYVfIdNUQ  Gorgon City - Red Rocks 2023 - Tell Me It’s True  2023-04-28   \n",
       "2  IbnsarVFR_w                                     Snowmass 2022  2022-02-20   \n",
       "3  d7IEgYqq6Lo               Berthoud Pass Snowboarding May 2020  2020-05-24   \n",
       "4  9ikLHpyNc9A          Keystone snowboarding 2020 casey dauksas  2020-03-19   \n",
       "5  0kB7FyJityQ                                 random clips test  2014-06-08   \n",
       "\n",
       "  view_count comment_count  \n",
       "0        492             1  \n",
       "1        141             0  \n",
       "2         71             0  \n",
       "3         60             0  \n",
       "4        193             1  \n",
       "5         92             0  "
      ]
     },
     "execution_count": 41,
     "metadata": {},
     "output_type": "execute_result"
    }
   ],
   "source": [
    "df\n"
   ]
  },
  {
   "cell_type": "code",
   "execution_count": null,
   "metadata": {},
   "outputs": [],
   "source": []
  }
 ],
 "metadata": {
  "kernelspec": {
   "display_name": "base",
   "language": "python",
   "name": "python3"
  },
  "language_info": {
   "codemirror_mode": {
    "name": "ipython",
    "version": 3
   },
   "file_extension": ".py",
   "mimetype": "text/x-python",
   "name": "python",
   "nbconvert_exporter": "python",
   "pygments_lexer": "ipython3",
   "version": "3.9.13"
  },
  "orig_nbformat": 4
 },
 "nbformat": 4,
 "nbformat_minor": 2
}
